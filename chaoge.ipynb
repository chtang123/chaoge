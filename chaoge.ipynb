{
 "cells": [
  {
   "cell_type": "code",
   "execution_count": 4,
   "metadata": {
    "collapsed": false
   },
   "outputs": [],
   "source": [
    "import pandas as pd"
   ]
  },
  {
   "cell_type": "code",
   "execution_count": 5,
   "metadata": {
    "collapsed": true
   },
   "outputs": [],
   "source": [
    "df = pd.read_csv('//Users/chenbo/Downloads/count.town.csv')"
   ]
  },
  {
   "cell_type": "code",
   "execution_count": 20,
   "metadata": {
    "collapsed": false
   },
   "outputs": [],
   "source": [
    "col = list(df.columns)"
   ]
  },
  {
   "cell_type": "code",
   "execution_count": 21,
   "metadata": {
    "collapsed": false
   },
   "outputs": [],
   "source": [
    "p = ['n_call',\n",
    " 'p_call',\n",
    " 'p_call.s',\n",
    " 'p_call_employment',\n",
    " 'p_call_income',\n",
    " 'p_call_childcare',\n",
    " 'p_call_housing',\n",
    " 'p_call_homeless',\n",
    " 'p_call_substance',\n",
    " 'p_call_utilities',\n",
    " 'p_call_health',\n",
    " 'p_call_mental',\n",
    " 'p_call_no_childcare',\n",
    " 'p_call_no_housing',\n",
    " 'p_called_before',\n",
    "    'name']"
   ]
  },
  {
   "cell_type": "code",
   "execution_count": 22,
   "metadata": {
    "collapsed": true
   },
   "outputs": [],
   "source": [
    "for pp in p:\n",
    "    col.remove(pp)"
   ]
  },
  {
   "cell_type": "code",
   "execution_count": 29,
   "metadata": {
    "collapsed": false
   },
   "outputs": [],
   "source": [
    "x = df[col]\n",
    "x=x.fillna('999')"
   ]
  },
  {
   "cell_type": "code",
   "execution_count": 14,
   "metadata": {
    "collapsed": true
   },
   "outputs": [],
   "source": [
    "y =df.p_call"
   ]
  },
  {
   "cell_type": "code",
   "execution_count": 37,
   "metadata": {
    "collapsed": false
   },
   "outputs": [],
   "source": [
    "import numpy as np\n",
    "from sklearn.tree import DecisionTreeRegressor\n",
    "from sklearn.ensemble import RandomForestRegressor\n",
    "import matplotlib.pyplot as plt"
   ]
  },
  {
   "cell_type": "code",
   "execution_count": 30,
   "metadata": {
    "collapsed": false
   },
   "outputs": [
    {
     "data": {
      "text/plain": [
       "DecisionTreeRegressor(criterion='mse', max_depth=5, max_features=None,\n",
       "           max_leaf_nodes=None, min_impurity_split=1e-07,\n",
       "           min_samples_leaf=1, min_samples_split=2,\n",
       "           min_weight_fraction_leaf=0.0, presort=False, random_state=None,\n",
       "           splitter='best')"
      ]
     },
     "execution_count": 30,
     "metadata": {},
     "output_type": "execute_result"
    }
   ],
   "source": [
    "regr_1 = DecisionTreeRegressor(max_depth=2)\n",
    "regr_2 = DecisionTreeRegressor(max_depth=5)\n",
    "regr_1.fit(x, y)\n",
    "regr_2.fit(x, y)"
   ]
  },
  {
   "cell_type": "code",
   "execution_count": 38,
   "metadata": {
    "collapsed": false
   },
   "outputs": [
    {
     "data": {
      "text/plain": [
       "RandomForestRegressor(bootstrap=True, criterion='mse', max_depth=None,\n",
       "           max_features='auto', max_leaf_nodes=None,\n",
       "           min_impurity_split=1e-07, min_samples_leaf=1,\n",
       "           min_samples_split=2, min_weight_fraction_leaf=0.0,\n",
       "           n_estimators=250, n_jobs=1, oob_score=False, random_state=0,\n",
       "           verbose=0, warm_start=False)"
      ]
     },
     "execution_count": 38,
     "metadata": {},
     "output_type": "execute_result"
    }
   ],
   "source": [
    "rf = RandomForestRegressor(n_estimators=250,\n",
    "                              random_state=0)\n",
    "rf.fit(x,y)"
   ]
  },
  {
   "cell_type": "code",
   "execution_count": 76,
   "metadata": {
    "collapsed": true
   },
   "outputs": [],
   "source": [
    "importance = rf.feature_importances_\n",
    "\n",
    "importance = sorted(importance,reverse=True)"
   ]
  },
  {
   "cell_type": "code",
   "execution_count": 41,
   "metadata": {
    "collapsed": false
   },
   "outputs": [],
   "source": [
    "std = np.std([rf.feature_importances_ for rf in rf.estimators_],\n",
    "             axis=0)"
   ]
  },
  {
   "cell_type": "code",
   "execution_count": 48,
   "metadata": {
    "collapsed": false
   },
   "outputs": [],
   "source": [
    "indices = np.argsort(importance)[::-1]\n",
    "a = list(x.columns)\n",
    "\n",
    "b=[]\n",
    "for i in indices:\n",
    "    b.append(a[i])"
   ]
  },
  {
   "cell_type": "code",
   "execution_count": 77,
   "metadata": {
    "collapsed": false
   },
   "outputs": [
    {
     "name": "stdout",
     "output_type": "stream",
     "text": [
      "0\n",
      "1\n",
      "2\n",
      "3\n",
      "4\n",
      "5\n",
      "6\n",
      "7\n",
      "8\n",
      "9\n",
      "10\n",
      "11\n",
      "12\n",
      "13\n",
      "14\n",
      "15\n",
      "16\n",
      "17\n",
      "18\n",
      "19\n",
      "20\n",
      "21\n",
      "22\n",
      "23\n",
      "24\n",
      "25\n",
      "26\n",
      "27\n",
      "28\n",
      "29\n",
      "30\n",
      "31\n",
      "32\n",
      "33\n",
      "34\n",
      "35\n",
      "36\n",
      "37\n",
      "38\n",
      "39\n",
      "40\n",
      "41\n",
      "42\n",
      "43\n",
      "44\n",
      "45\n",
      "46\n",
      "47\n",
      "48\n",
      "49\n",
      "50\n",
      "51\n",
      "52\n",
      "53\n",
      "54\n",
      "55\n",
      "56\n",
      "57\n",
      "58\n",
      "59\n",
      "60\n",
      "61\n",
      "62\n",
      "63\n",
      "64\n",
      "65\n",
      "66\n",
      "67\n",
      "68\n",
      "69\n",
      "70\n",
      "71\n",
      "72\n",
      "73\n",
      "74\n",
      "75\n",
      "76\n",
      "77\n",
      "78\n",
      "79\n",
      "80\n",
      "81\n",
      "82\n",
      "83\n",
      "84\n",
      "85\n",
      "86\n",
      "87\n",
      "88\n",
      "89\n",
      "90\n",
      "91\n",
      "92\n",
      "93\n",
      "94\n",
      "95\n",
      "96\n",
      "97\n",
      "98\n",
      "99\n",
      "100\n",
      "101\n",
      "102\n",
      "103\n",
      "104\n",
      "105\n",
      "106\n",
      "107\n",
      "108\n"
     ]
    },
    {
     "ename": "IndexError",
     "evalue": "list index out of range",
     "output_type": "error",
     "traceback": [
      "\u001b[0;31m---------------------------------------------------------------------------\u001b[0m",
      "\u001b[0;31mIndexError\u001b[0m                                Traceback (most recent call last)",
      "\u001b[0;32m<ipython-input-77-013ef2fbf798>\u001b[0m in \u001b[0;36m<module>\u001b[0;34m()\u001b[0m\n\u001b[1;32m      3\u001b[0m \u001b[0;32mfor\u001b[0m \u001b[0mi\u001b[0m \u001b[0;32min\u001b[0m \u001b[0mrange\u001b[0m\u001b[0;34m(\u001b[0m\u001b[0;36m0\u001b[0m\u001b[0;34m,\u001b[0m\u001b[0mlen\u001b[0m\u001b[0;34m(\u001b[0m\u001b[0mb\u001b[0m\u001b[0;34m)\u001b[0m\u001b[0;34m+\u001b[0m\u001b[0;36m1\u001b[0m\u001b[0;34m)\u001b[0m\u001b[0;34m:\u001b[0m\u001b[0;34m\u001b[0m\u001b[0m\n\u001b[1;32m      4\u001b[0m     \u001b[0mprint\u001b[0m\u001b[0;34m(\u001b[0m\u001b[0mi\u001b[0m\u001b[0;34m)\u001b[0m\u001b[0;34m\u001b[0m\u001b[0m\n\u001b[0;32m----> 5\u001b[0;31m     \u001b[0mrank\u001b[0m\u001b[0;34m.\u001b[0m\u001b[0mappend\u001b[0m\u001b[0;34m(\u001b[0m\u001b[0mstr\u001b[0m\u001b[0;34m(\u001b[0m\u001b[0mb\u001b[0m\u001b[0;34m[\u001b[0m\u001b[0mi\u001b[0m\u001b[0;34m]\u001b[0m\u001b[0;34m)\u001b[0m \u001b[0;34m+\u001b[0m \u001b[0;34m\"_\"\u001b[0m \u001b[0;34m+\u001b[0m \u001b[0mstr\u001b[0m\u001b[0;34m(\u001b[0m\u001b[0mimportance\u001b[0m\u001b[0;34m[\u001b[0m\u001b[0mi\u001b[0m\u001b[0;34m]\u001b[0m\u001b[0;34m)\u001b[0m\u001b[0;34m)\u001b[0m\u001b[0;34m\u001b[0m\u001b[0m\n\u001b[0m",
      "\u001b[0;31mIndexError\u001b[0m: list index out of range"
     ]
    }
   ],
   "source": [
    "rank = []\n",
    "\n",
    "for i in range(0,len(b)+1):\n",
    "    print(i)\n",
    "    rank.append(str(b[i]) + \"_\" + str(importance[i]))"
   ]
  },
  {
   "cell_type": "code",
   "execution_count": 78,
   "metadata": {
    "collapsed": false
   },
   "outputs": [
    {
     "data": {
      "text/plain": [
       "['PubAssistYes_0.225111831815',\n",
       " 'Hispanic_0.10906311799',\n",
       " 'PubAssist_0.0511881789317',\n",
       " 'FemaleHead_0.0474945851637',\n",
       " 'lowbirthweight_0.0279658036334',\n",
       " 'Age2534_0.0245999651981',\n",
       " 'moms_adeq_care_0.0222614283371',\n",
       " 'Age3544_0.0170702597493',\n",
       " 'AgeU5_0.0152595857805',\n",
       " 'BelowPovertyMarried_0.0147060680923',\n",
       " 'Master_0.0140963974806',\n",
       " 'afdc_medicaid_0.0123678067675',\n",
       " 'Doc_0.0112831734323',\n",
       " 'cancer_death_0.0108638886449',\n",
       " 'UnempRate_0.00936899615252',\n",
       " 'lung_cancer_death_0.00923939773157',\n",
       " 'TotalPop_0.00853334438675',\n",
       " 'UnempRate.s_0.00842130708813',\n",
       " 'LaborUnemp_0.00789240415225',\n",
       " 'AgeOld_0.00777296869267',\n",
       " 'LessThanHS_0.00762626528677',\n",
       " 'Age6064_0.0075803633379',\n",
       " 'HSGrad_0.00756020911574',\n",
       " 'MaleHead_0.00745208050472',\n",
       " 'Prof_0.00729769272391',\n",
       " 'FIPS_ID_0.00719864977457',\n",
       " 'chronic_death_0.00711724446066',\n",
       " 'Age6574_0.00709699663257',\n",
       " 'BelowPovertyOccupied_0.00708957249236',\n",
       " 'cardiovascular_death_0.00703486329129',\n",
       " 'fertility_0.00674372521825',\n",
       " 'Nonfamily_0.00657376248398',\n",
       " 'child_poverty100_0.00647882852399',\n",
       " 'GINI_0.00647714297799',\n",
       " 'fertility_white_0.00596193837707',\n",
       " 'gonorrhea_0.00591715320339',\n",
       " 'PopDen.s_0.00586315388967',\n",
       " 'breast_cancer_death_0.00580061508666',\n",
       " 'motor_death_0.00578475687718',\n",
       " 'income_0.00575744870708',\n",
       " 'BelowPoverty_0.00564113464202',\n",
       " 'asthma_0.00554494229',\n",
       " 'chlamydia_0.0055044569172',\n",
       " 'moms_pub_care_0.00543577033017',\n",
       " 'pneumonia_0.00526516708995',\n",
       " 'teenagemoms_0.00523272388785',\n",
       " 'GrandHead_0.00516077227755',\n",
       " 'NoSchool_0.00508936125932',\n",
       " 'alcohol_other_drug_0.00501558152448',\n",
       " 'BornInOtherState_0.00478208702533',\n",
       " 'shape_area_0.00475120025368',\n",
       " 'poverty100_0.00470875572157',\n",
       " 'Age6061_0.00459142343746',\n",
       " 'MedHouseIncome.s_0.00450824290144',\n",
       " 'Age5559_0.00450612890347',\n",
       " 'suicide_0.00450439141229',\n",
       " 'fertility_hispanic_0.00439310957411',\n",
       " 'Black.s_0.00414713808986',\n",
       " 'Age4554_0.00392596738399',\n",
       " 'Asian_0.00384629582496',\n",
       " 'White_0.003792646543',\n",
       " 'Age1824_0.00376803102314',\n",
       " 'BornInState_0.00363542603097',\n",
       " 'NativeBornOutOfUS_0.00354013251652',\n",
       " 'pertussis_0.00351995206446',\n",
       " 'ForeignBorn_0.00350155844549',\n",
       " 'umemployed_0.00348022394906',\n",
       " 'SomeColl_0.00346685681197',\n",
       " 'multi_assist_medicaid_0.00341070171641',\n",
       " 'moms_no_care_0.00336839413419',\n",
       " 'AtLeastBachelor.s_0.00333816653947',\n",
       " 'ageu18_0.00326872158857',\n",
       " 'poverty200_0.00321811731467',\n",
       " 'PopDen_0.00315095770503',\n",
       " 'fertility_black_0.00311654576111',\n",
       " 'fertility_asian_0.00297402471397',\n",
       " 'BelowPoverty.s_0.00292906866331',\n",
       " 'substance_abuse_0.00291131831763',\n",
       " 'MedHouseIncome_0.00284754763788',\n",
       " 'Black_0.00279615942773',\n",
       " 'injection_drug_0.0026687540101',\n",
       " 'infantmortality_0.00262452475148',\n",
       " 'Bach_0.00259593159995',\n",
       " 'ageu20_0.00257034877866',\n",
       " 'Male_0.00248864541236',\n",
       " 'Age6264_0.00241824882738',\n",
       " 'hiv_death_0.00233697567282',\n",
       " 'Age75P_0.00227732515303',\n",
       " 'Age517_0.00223945517286',\n",
       " 'White.s_0.00223031372935',\n",
       " 'syphilis_0.00219286307173',\n",
       " 'AtLeastBachelor_0.0021796777792',\n",
       " 'hiv_aids_0.0021454482008',\n",
       " 'TwoOrMore_0.00211949742471',\n",
       " 'age65p_0.00188066552762',\n",
       " 'tuberculosis_0.00182253856269',\n",
       " 'Female_0.00177925908113',\n",
       " 'SexRatio_0.00168981503018',\n",
       " 'angina_0.00153743494478',\n",
       " 'homicide_0.00132275783794',\n",
       " 'EthHet_0.0012253923282',\n",
       " 'infantmortality_white_0.00121055120219',\n",
       " 'infantmoratlity_hispanic_0.00105186216046',\n",
       " 'hepb_0.0007938696497',\n",
       " 'child_lead_poison_0.000361092701211',\n",
       " 'infantmortality_asian_0.000337978172261',\n",
       " 'hiv_0.000209717137147',\n",
       " 'infantmortality_black_0.000126882242563']"
      ]
     },
     "execution_count": 78,
     "metadata": {},
     "output_type": "execute_result"
    }
   ],
   "source": [
    "rank"
   ]
  },
  {
   "cell_type": "code",
   "execution_count": null,
   "metadata": {
    "collapsed": true
   },
   "outputs": [],
   "source": []
  },
  {
   "cell_type": "code",
   "execution_count": 47,
   "metadata": {
    "collapsed": false
   },
   "outputs": [
    {
     "data": {
      "text/plain": [
       "108"
      ]
     },
     "execution_count": 47,
     "metadata": {},
     "output_type": "execute_result"
    }
   ],
   "source": []
  }
 ],
 "metadata": {
  "kernelspec": {
   "display_name": "Python 3",
   "language": "python",
   "name": "python3"
  },
  "language_info": {
   "codemirror_mode": {
    "name": "ipython",
    "version": 3
   },
   "file_extension": ".py",
   "mimetype": "text/x-python",
   "name": "python",
   "nbconvert_exporter": "python",
   "pygments_lexer": "ipython3",
   "version": "3.6.0"
  }
 },
 "nbformat": 4,
 "nbformat_minor": 2
}
